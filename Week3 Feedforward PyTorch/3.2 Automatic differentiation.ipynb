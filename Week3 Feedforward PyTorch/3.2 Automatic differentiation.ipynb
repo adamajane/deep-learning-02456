{
 "cells": [
  {
   "cell_type": "markdown",
   "metadata": {},
   "source": [
    "# Credits\n",
    "\n",
    "This is heavily influenced or copied from https://github.com/pytorch/tutorials\n"
   ]
  },
  {
   "cell_type": "markdown",
   "metadata": {},
   "source": [
    "# Autograd: automatic differentiation\n",
    "\n",
    "Central to all neural networks in PyTorch is the `autograd` package.\n",
    "Let’s first briefly visit this, and we will then go to training our first neural network.\n",
    "\n",
    "The `autograd` package provides automatic differentiation for all operations on Tensors.\n",
    "It is a define-by-run framework, which means that your backprop is defined by how your code is run, and that every single iteration can be different.\n",
    "\n",
    "Let us see this in more simple terms with some examples.\n"
   ]
  },
  {
   "cell_type": "markdown",
   "metadata": {},
   "source": [
    "## 1. Tensor\n",
    "\n",
    "`torch.Tensor` is the central class of the package. Setting the attribute `.requires_grad` to `True` will make the tensor \"record\" all operations on it. When you finish your computation you can call `.backward()` and have all the gradients computed automatically. The gradient for this tensor will be accumulated into the `.grad` attribute.\n",
    "\n",
    "![autograd.Variable](../static_files/autograd-variable.png)\n",
    "\n",
    "There’s one more class which is very important for autograd implementation - a `Function`.\n",
    "\n",
    "`Tensor` and `Function` are interconnected and build up an acyclic graph, that encodes a complete history of computation. Each tensor has a `.grad_fn` attribute that references a `Function` that has created the `Tensor` (except for Tensors created by the user - their `grad_fn` is `None`).\n",
    "\n",
    "If you want to compute the derivatives, you can call `.backward()` on a Tensor. If `Tensor` is a scalar (i.e. it holds a one element data), you don’t need to specify any arguments to backward(), however if it has more elements, you need to specify a `gradient` argument that is a tensor of matching shape.\n"
   ]
  },
  {
   "cell_type": "code",
   "execution_count": 20,
   "metadata": {},
   "outputs": [],
   "source": [
    "import torch"
   ]
  },
  {
   "cell_type": "markdown",
   "metadata": {},
   "source": [
    "Create a tensor\n"
   ]
  },
  {
   "cell_type": "code",
   "execution_count": 21,
   "metadata": {},
   "outputs": [
    {
     "name": "stdout",
     "output_type": "stream",
     "text": [
      "tensor([[1., 1.],\n",
      "        [1., 1.]], requires_grad=True)\n"
     ]
    }
   ],
   "source": [
    "x = torch.ones(2, 2, requires_grad=True)\n",
    "print(x)"
   ]
  },
  {
   "cell_type": "markdown",
   "metadata": {},
   "source": [
    "Do a tensor operation:\n"
   ]
  },
  {
   "cell_type": "code",
   "execution_count": 22,
   "metadata": {},
   "outputs": [
    {
     "name": "stdout",
     "output_type": "stream",
     "text": [
      "tensor([[3., 3.],\n",
      "        [3., 3.]], grad_fn=<AddBackward0>)\n"
     ]
    }
   ],
   "source": [
    "y = x + 2\n",
    "print(y)"
   ]
  },
  {
   "cell_type": "markdown",
   "metadata": {},
   "source": [
    "`y` was created as a result of an operation, so it has a `grad_fn`.\n"
   ]
  },
  {
   "cell_type": "code",
   "execution_count": 23,
   "metadata": {},
   "outputs": [
    {
     "name": "stdout",
     "output_type": "stream",
     "text": [
      "<AddBackward0 object at 0x11744d270>\n"
     ]
    }
   ],
   "source": [
    "print(y.grad_fn)"
   ]
  },
  {
   "cell_type": "markdown",
   "metadata": {},
   "source": [
    "Do more operations on y\n"
   ]
  },
  {
   "cell_type": "code",
   "execution_count": 24,
   "metadata": {},
   "outputs": [
    {
     "name": "stdout",
     "output_type": "stream",
     "text": [
      "tensor([[27., 27.],\n",
      "        [27., 27.]], grad_fn=<MulBackward0>)\n",
      "tensor(27., grad_fn=<MeanBackward0>)\n"
     ]
    }
   ],
   "source": [
    "z = y * y * 3\n",
    "out = z.mean()\n",
    "\n",
    "print(z)\n",
    "print(out)"
   ]
  },
  {
   "cell_type": "markdown",
   "metadata": {},
   "source": [
    "# Assignments\n",
    "\n",
    "1. Create a Tensor that `requires_grad` of size (5, 5)\n",
    "2. Sum the values in the Tensor\n"
   ]
  },
  {
   "cell_type": "code",
   "execution_count": 25,
   "metadata": {},
   "outputs": [
    {
     "name": "stdout",
     "output_type": "stream",
     "text": [
      "tensor([[0.3353, 0.3297, 0.3591, 0.0970, 0.3433],\n",
      "        [0.9307, 0.2622, 0.8614, 0.3831, 0.2803],\n",
      "        [0.6910, 0.6187, 0.5142, 0.7140, 0.7962],\n",
      "        [0.4479, 0.8917, 0.8287, 0.5200, 0.0119],\n",
      "        [0.6852, 0.6776, 0.0717, 0.0110, 0.9773]], requires_grad=True)\n",
      "tensor(12.6393, grad_fn=<SumBackward0>)\n"
     ]
    }
   ],
   "source": [
    "tensor_grad = torch.rand(5, 5, requires_grad=True)\n",
    "print(tensor_grad)\n",
    "\n",
    "tensor_sum = torch.sum(tensor_grad)\n",
    "print(tensor_sum)"
   ]
  },
  {
   "cell_type": "markdown",
   "metadata": {},
   "source": [
    "## 2. Gradients\n",
    "\n",
    "Let’s backprop now. Because `out` contains a single scalar, `out.backward()` is equivalent to `out.backward(torch.tensor([1.0]))`\n"
   ]
  },
  {
   "cell_type": "code",
   "execution_count": 26,
   "metadata": {},
   "outputs": [],
   "source": [
    "out.backward()"
   ]
  },
  {
   "cell_type": "markdown",
   "metadata": {},
   "source": [
    "Print gradients d(out)/dx\n"
   ]
  },
  {
   "cell_type": "code",
   "execution_count": 27,
   "metadata": {},
   "outputs": [
    {
     "name": "stdout",
     "output_type": "stream",
     "text": [
      "tensor([[4.5000, 4.5000],\n",
      "        [4.5000, 4.5000]])\n"
     ]
    }
   ],
   "source": [
    "print(x.grad)"
   ]
  },
  {
   "cell_type": "markdown",
   "metadata": {},
   "source": [
    "You should have a matrix of `4.5`. Let’s denote the tensor `out` with $o$.\n",
    "\n",
    "We have:\n",
    "$o = \\frac{1}{4}\\sum_i z_i$, $z_i = 3(x_i+2)^2$ and $z_i\\bigr\\rvert_{x_i=1} = 27$.\n",
    "\n",
    "Therefore, $\\frac{\\partial o}{\\partial x_i} = \\frac{3}{2}(x_i+2)$,\n",
    "hence $\\frac{\\partial o}{\\partial x_i}\\bigr\\rvert_{x_i=1} = \\frac{9}{2} = 4.5$.\n",
    "\n",
    "You can do many crazy things with autograd!\n"
   ]
  },
  {
   "cell_type": "code",
   "execution_count": 28,
   "metadata": {},
   "outputs": [
    {
     "name": "stdout",
     "output_type": "stream",
     "text": [
      "tensor([1513.2335, -717.3866, -876.2304], grad_fn=<MulBackward0>)\n"
     ]
    }
   ],
   "source": [
    "x = torch.randn(3, requires_grad=True)\n",
    "\n",
    "y = x * 2\n",
    "while y.data.norm() < 1000:\n",
    "    y = y * 2\n",
    "\n",
    "print(y)"
   ]
  },
  {
   "cell_type": "code",
   "execution_count": 29,
   "metadata": {},
   "outputs": [
    {
     "name": "stdout",
     "output_type": "stream",
     "text": [
      "tensor([1.0240e+02, 1.0240e+03, 1.0240e-01])\n"
     ]
    }
   ],
   "source": [
    "gradients = torch.FloatTensor([0.1, 1.0, 0.0001])\n",
    "y.backward(gradients)\n",
    "\n",
    "print(x.grad)"
   ]
  },
  {
   "cell_type": "markdown",
   "metadata": {},
   "source": [
    "**Read later** \\\n",
    "_Documentation_ \\\n",
    "`Tensor`: https://pytorch.org/docs/stable/tensors.html \\\n",
    "`Function`: http://pytorch.org/docs/autograd\n"
   ]
  },
  {
   "cell_type": "markdown",
   "metadata": {},
   "source": [
    "# Assignments\n",
    "\n",
    "1. Define a tensor and set `requires_grad` to `True`\n",
    "2. Multiply the tensor by 2 and assign the result to a new python variable (i.e. `x = result`)\n",
    "3. Sum the variable's elements and assign to a new python variable\n",
    "4. Print the gradients of all the variables\n",
    "5. Now perform a backward pass on the last variable (NOTE: for each new python variable that you define, call `.retain_grad()`)\n",
    "6. Print all gradients again\n",
    "\n",
    "- what did you notice?\n"
   ]
  },
  {
   "cell_type": "code",
   "execution_count": 31,
   "metadata": {},
   "outputs": [
    {
     "name": "stdout",
     "output_type": "stream",
     "text": [
      "tensor([[0.2794, 0.8622, 0.0066, 0.7495, 0.3338],\n",
      "        [0.9157, 0.4034, 0.3200, 0.1980, 0.4721],\n",
      "        [0.0538, 0.6208, 0.8647, 0.6263, 0.0585],\n",
      "        [0.8412, 0.3079, 0.2139, 0.7655, 0.2053],\n",
      "        [0.4687, 0.7702, 0.3993, 0.1157, 0.9373]], requires_grad=True)\n",
      "tensor([[0.5589, 1.7244, 0.0131, 1.4990, 0.6676],\n",
      "        [1.8314, 0.8069, 0.6399, 0.3959, 0.9442],\n",
      "        [0.1075, 1.2416, 1.7295, 1.2527, 0.1171],\n",
      "        [1.6824, 0.6158, 0.4277, 1.5311, 0.4106],\n",
      "        [0.9374, 1.5403, 0.7986, 0.2315, 1.8745]], grad_fn=<MulBackward0>)\n",
      "tensor(23.5797, grad_fn=<SumBackward0>)\n",
      "\n",
      "Gradients before backward pass\n",
      "Gradients of tensor_with_grad: None\n",
      "Gradients of tensor_mul: None\n",
      "Gradients of tensor_sum: None\n",
      "\n",
      "Gradients after backward pass\n",
      "Gradients of tensor_with_grad: tensor([[2., 2., 2., 2., 2.],\n",
      "        [2., 2., 2., 2., 2.],\n",
      "        [2., 2., 2., 2., 2.],\n",
      "        [2., 2., 2., 2., 2.],\n",
      "        [2., 2., 2., 2., 2.]])\n",
      "Gradients of tensor_mul: tensor([[1., 1., 1., 1., 1.],\n",
      "        [1., 1., 1., 1., 1.],\n",
      "        [1., 1., 1., 1., 1.],\n",
      "        [1., 1., 1., 1., 1.],\n",
      "        [1., 1., 1., 1., 1.]])\n",
      "Gradients of tensor_sum: tensor(1.)\n"
     ]
    }
   ],
   "source": [
    "import warnings\n",
    "\n",
    "# Ignores the warning (ignored for readability):\n",
    "# UserWarning: The .grad attribute of a Tensor that is not a leaf Tensor is being accessed\n",
    "warnings.filterwarnings(\"ignore\")\n",
    "\n",
    "\n",
    "# Leaf tensor (defined by user)\n",
    "# Final stop of the flow of gradients on the backward pass\n",
    "tensor_with_grad = torch.rand(5, 5, requires_grad=True)\n",
    "print(tensor_with_grad)\n",
    "\n",
    "# Tensors defined using mathematical operations\n",
    "tensor_mul = tensor_with_grad * 2\n",
    "print(tensor_mul)\n",
    "\n",
    "tensor_sum = torch.sum(tensor_mul)\n",
    "print(tensor_sum)\n",
    "\n",
    "# Gradient functions\n",
    "# print(\"Gradient function of tensor_with_grad:\", tensor_with_grad.grad_fn)\n",
    "# print(\"Gradients function of tensor_mul:\", tensor_mul.grad_fn)\n",
    "# print(\"Gradients function of tensor_sum:\", tensor_sum.grad_fn)\n",
    "\n",
    "print()\n",
    "\n",
    "print(\"Gradients before backward pass\")\n",
    "print(\"Gradients of tensor_with_grad:\", tensor_with_grad.grad)\n",
    "print(\"Gradients of tensor_mul:\", tensor_mul.grad)\n",
    "print(\"Gradients of tensor_sum:\", tensor_sum.grad)\n",
    "\n",
    "print()\n",
    "\n",
    "# Retains intermediate gradients\n",
    "tensor_mul.retain_grad()\n",
    "tensor_sum.retain_grad()\n",
    "\n",
    "# Backward pass\n",
    "tensor_sum.backward()\n",
    "\n",
    "print(\"Gradients after backward pass\")\n",
    "print(\"Gradients of tensor_with_grad:\", tensor_with_grad.grad)\n",
    "print(\"Gradients of tensor_mul:\", tensor_mul.grad)\n",
    "print(\"Gradients of tensor_sum:\", tensor_sum.grad)"
   ]
  }
 ],
 "metadata": {
  "kernelspec": {
   "display_name": ".venv (3.13.7)",
   "language": "python",
   "name": "python3"
  },
  "language_info": {
   "codemirror_mode": {
    "name": "ipython",
    "version": 3
   },
   "file_extension": ".py",
   "mimetype": "text/x-python",
   "name": "python",
   "nbconvert_exporter": "python",
   "pygments_lexer": "ipython3",
   "version": "3.13.7"
  }
 },
 "nbformat": 4,
 "nbformat_minor": 2
}
